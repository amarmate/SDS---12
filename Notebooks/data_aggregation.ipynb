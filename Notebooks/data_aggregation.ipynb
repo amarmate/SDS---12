{
 "cells": [
  {
   "cell_type": "code",
   "execution_count": 491,
   "metadata": {},
   "outputs": [],
   "source": [
    "import pandas as pd\n",
    "import numpy as np\n",
    "import matplotlib.pyplot as plt\n",
    "\n",
    "gdp_growth = pd.read_csv('../Data/gdp_growth.csv')\n",
    "gfcf_growth = pd.read_csv('../Data/gfcf_growth.csv', encoding='utf-8')\n",
    "inflation = pd.read_csv('../Data/inflation.csv', encoding='utf-8')\n",
    "unemployment = pd.read_csv('../Data/unemployment.csv', encoding='utf-8')"
   ]
  },
  {
   "cell_type": "markdown",
   "metadata": {},
   "source": [
    "Delete excessive columns, and set index to country name"
   ]
  },
  {
   "cell_type": "code",
   "execution_count": 492,
   "metadata": {},
   "outputs": [],
   "source": [
    "gdp_growth = gdp_growth[gdp_growth['Series Name'] == 'GDP growth (annual %)'].drop(['Series Name', 'Series Code', 'Country Code'], axis=1).set_index('Country Name')\n",
    "inflation = inflation[inflation['Series Name'] == 'Inflation, consumer prices (annual %)'].drop(['Series Name', 'Series Code', 'Country Code'], axis=1).set_index('Country Name')\n",
    "gfcf_growth = gfcf_growth[gfcf_growth['Series Name'] == 'Gross fixed capital formation (annual % growth)'].drop(['Series Name', 'Series Code', 'Country Code'], axis=1).set_index('Country Name')\n",
    "unemployment = unemployment[unemployment['Series Name'] == 'Unemployment, total (% of total labor force) (national estimate)'].drop(['Series Name', 'Series Code', 'Country Code'], axis=1).set_index('Country Name')"
   ]
  },
  {
   "cell_type": "code",
   "execution_count": 493,
   "metadata": {},
   "outputs": [],
   "source": [
    "# .. is NaN\n",
    "gdp_growth = gdp_growth.replace('..', np.nan)\n",
    "gfcf_growth = gfcf_growth.replace('..', np.nan)\n",
    "inflation = inflation.replace('..', np.nan)\n",
    "unemployment = unemployment.replace('..', np.nan)"
   ]
  },
  {
   "cell_type": "markdown",
   "metadata": {},
   "source": [
    "Cap the years from 1996 to 2019"
   ]
  },
  {
   "cell_type": "code",
   "execution_count": 494,
   "metadata": {},
   "outputs": [],
   "source": [
    "gdp_growth = gdp_growth.iloc[:, 4:]\n",
    "gfcf_growth = gfcf_growth.iloc[:, 4:]\n",
    "inflation = inflation.iloc[:, 4:]\n",
    "unemployment = unemployment.iloc[:, 4:]"
   ]
  },
  {
   "cell_type": "markdown",
   "metadata": {},
   "source": [
    "Delete small countries with missing values in the gdp growth column"
   ]
  },
  {
   "cell_type": "code",
   "execution_count": 495,
   "metadata": {},
   "outputs": [
    {
     "name": "stdout",
     "output_type": "stream",
     "text": [
      "33 countries have missing values in gdp_growth\n"
     ]
    }
   ],
   "source": [
    "print((gdp_growth.isna().sum(axis=1) > 0).sum(), 'countries have missing values in gdp_growth')\n",
    "gdp_growth = gdp_growth.loc[gdp_growth.isna().sum(axis=1).sort_values(ascending=False) == 0]"
   ]
  },
  {
   "cell_type": "markdown",
   "metadata": {},
   "source": [
    "Only keep countries in gdp_growth"
   ]
  },
  {
   "cell_type": "code",
   "execution_count": 496,
   "metadata": {},
   "outputs": [],
   "source": [
    "gfcf_growth = gfcf_growth[gfcf_growth.index.isin(gdp_growth.index)]\n",
    "inflation = inflation[inflation.index.isin(gdp_growth.index)]\n",
    "unemployment = unemployment[unemployment.index.isin(gdp_growth.index)]"
   ]
  },
  {
   "cell_type": "markdown",
   "metadata": {},
   "source": [
    "Analyse inflation\n",
    "- Delete countries with more than 2 inflation values missing"
   ]
  },
  {
   "cell_type": "code",
   "execution_count": 497,
   "metadata": {},
   "outputs": [
    {
     "name": "stdout",
     "output_type": "stream",
     "text": [
      "31 countries have missing values in inflation\n"
     ]
    }
   ],
   "source": [
    "print((inflation.isna().sum(axis=1) > 2).sum(), 'countries have missing values in inflation')\n",
    "inflation = inflation[inflation.isna().sum(axis=1) <= 2]"
   ]
  },
  {
   "cell_type": "markdown",
   "metadata": {},
   "source": [
    "Only keep countries in inflation"
   ]
  },
  {
   "cell_type": "code",
   "execution_count": 498,
   "metadata": {},
   "outputs": [],
   "source": [
    "gdp_growth = gdp_growth[gdp_growth.index.isin(inflation.index)]\n",
    "gfcf_growth = gfcf_growth[gfcf_growth.index.isin(inflation.index)]\n",
    "unemployment = unemployment[unemployment.index.isin(inflation.index)]"
   ]
  },
  {
   "cell_type": "markdown",
   "metadata": {},
   "source": [
    "Same for gfcf \n",
    "- Delete countries with more than 2 gfcf values missing"
   ]
  },
  {
   "cell_type": "code",
   "execution_count": 499,
   "metadata": {},
   "outputs": [
    {
     "name": "stdout",
     "output_type": "stream",
     "text": [
      "48 countries have more than 2 missing values in gfcf_growth\n"
     ]
    }
   ],
   "source": [
    "print((gfcf_growth.isna().sum(axis=1) > 2).sum(), 'countries have more than 2 missing values in gfcf_growth')\n",
    "gfcf_growth =gfcf_growth[gfcf_growth.isna().sum(axis=1) <= 2]\n",
    "gdp_growth = gdp_growth[gdp_growth.index.isin(gfcf_growth.index)]\n",
    "inflation = inflation[inflation.index.isin(gfcf_growth.index)]\n",
    "unemployment = unemployment[unemployment.index.isin(gfcf_growth.index)]"
   ]
  },
  {
   "cell_type": "markdown",
   "metadata": {},
   "source": [
    "Unemployment"
   ]
  },
  {
   "cell_type": "code",
   "execution_count": 500,
   "metadata": {},
   "outputs": [
    {
     "name": "stdout",
     "output_type": "stream",
     "text": [
      "40 countries have more than 2 NaNs in unemployment\n"
     ]
    }
   ],
   "source": [
    "print((unemployment.isna().sum(axis=1) > 2).sum(), 'countries have more than 2 NaNs in unemployment')\n",
    "unemployment = unemployment[unemployment.isna().sum(axis=1) <= 2]\n",
    "\n",
    "gdp_growth = gdp_growth[gdp_growth.index.isin(unemployment.index)]\n",
    "gfcf_growth = gfcf_growth[gfcf_growth.index.isin(unemployment.index)]\n",
    "inflation = inflation[inflation.index.isin(unemployment.index)]"
   ]
  },
  {
   "cell_type": "markdown",
   "metadata": {},
   "source": [
    "Fixing Nans"
   ]
  },
  {
   "cell_type": "code",
   "execution_count": 501,
   "metadata": {},
   "outputs": [],
   "source": [
    "# Convert to float per trade\n",
    "gfcf_growth = gfcf_growth.astype(float)\n",
    "gdp_growth = gdp_growth.astype(float)\n",
    "inflation = inflation.astype(float)\n",
    "unemployment = unemployment.astype(float)"
   ]
  },
  {
   "cell_type": "markdown",
   "metadata": {},
   "source": [
    "Change the columns "
   ]
  },
  {
   "cell_type": "code",
   "execution_count": 502,
   "metadata": {},
   "outputs": [],
   "source": [
    "years = [str(i) for i in range(1996, 2020)]\n",
    "gfcf_growth.columns = years\n",
    "gdp_growth.columns = years\n",
    "inflation.columns = years\n",
    "unemployment.columns = years"
   ]
  },
  {
   "cell_type": "markdown",
   "metadata": {},
   "source": [
    "Create demeaned variables"
   ]
  },
  {
   "cell_type": "code",
   "execution_count": 503,
   "metadata": {},
   "outputs": [],
   "source": [
    "# Fill in missing values with the previous year's value\n",
    "inflation = inflation.fillna(method='ffill', axis=1)\n",
    "unemployment = unemployment.fillna(method='ffill', axis=1)\n",
    "\n",
    "inflation_growth = inflation.diff(axis=1)\n",
    "unemployment_growth = unemployment.diff(axis=1)\n",
    "\n",
    "# Cap values of inflation growth\n",
    "inflation_growth = inflation_growth.clip(-100, 250)\n",
    "\n",
    "# Remove nan \n",
    "unemployment_growth.fillna(0, inplace=True)"
   ]
  },
  {
   "cell_type": "markdown",
   "metadata": {},
   "source": [
    "Fill in missing values "
   ]
  },
  {
   "cell_type": "code",
   "execution_count": 504,
   "metadata": {},
   "outputs": [],
   "source": [
    "inflation_growth = inflation_growth.iloc[:, 1:]\n",
    "unemployment_growth = unemployment_growth.iloc[:, 1:]\n",
    "\n",
    "# Fill in missing values with the means of the countries\n",
    "gfcf_growth = gfcf_growth.fillna(gfcf_growth.mean(axis=0))"
   ]
  },
  {
   "cell_type": "markdown",
   "metadata": {},
   "source": [
    "- GDP growth doesnt neexd to be diffed as it is already a diff\n",
    "- Inflation doenst need to be diffed as it is already a diff"
   ]
  },
  {
   "cell_type": "code",
   "execution_count": 505,
   "metadata": {},
   "outputs": [],
   "source": [
    "# Change the index so that we have each country 2019-1992 times\n",
    "melt_gdpgr = gdp_growth.transpose().reset_index().melt(id_vars='index', var_name='Country Name', value_name='GDP Growth')\n",
    "melt_gdpgr['Year'] = melt_gdpgr['index'].astype(int)\n",
    "melt_gdpgr = melt_gdpgr.drop('index', axis=1)\n",
    "melt_gdpgr = melt_gdpgr.set_index(['Country Name', 'Year'])\n",
    "\n",
    "# The same for the others\n",
    "melt_gfcf = gfcf_growth.transpose().reset_index().melt(id_vars='index', var_name='Country Name', value_name='GFCF')\n",
    "melt_gfcf['Year'] = melt_gfcf['index'].astype(int)\n",
    "melt_gfcf = melt_gfcf.drop('index', axis=1)\n",
    "melt_gfcf = melt_gfcf.set_index(['Country Name', 'Year'])\n",
    "\n",
    "melt_inflation = inflation_growth.transpose().reset_index().melt(id_vars='index', var_name='Country Name', value_name='Inflation')\n",
    "melt_inflation['Year'] = melt_inflation['index'].astype(int)\n",
    "melt_inflation = melt_inflation.drop('index', axis=1)\n",
    "melt_inflation = melt_inflation.set_index(['Country Name', 'Year'])\n",
    "\n",
    "melt_unemployment = unemployment_growth.transpose().reset_index().melt(id_vars='index', var_name='Country Name', value_name='Unemployment')\n",
    "melt_unemployment['Year'] = melt_unemployment['index'].astype(int)\n",
    "melt_unemployment = melt_unemployment.drop('index', axis=1)\n",
    "melt_unemployment = melt_unemployment.set_index(['Country Name', 'Year'])\n",
    "\n",
    "# Merge all the dataframes\n",
    "df = pd.merge(melt_gdpgr, melt_gfcf, on=['Country Name', 'Year'])\n",
    "df = pd.merge(df, melt_inflation, on=['Country Name', 'Year'])\n",
    "df = pd.merge(df, melt_unemployment, on=['Country Name', 'Year'])\n",
    "\n",
    "df.columns = ['GDP Growth', 'GFCF change', 'Inflation change', 'Unemployment change']"
   ]
  },
  {
   "cell_type": "code",
   "execution_count": 506,
   "metadata": {},
   "outputs": [],
   "source": [
    "df.to_csv('../Data/economic_indicators.csv')"
   ]
  }
 ],
 "metadata": {
  "kernelspec": {
   "display_name": "Python 3",
   "language": "python",
   "name": "python3"
  },
  "language_info": {
   "codemirror_mode": {
    "name": "ipython",
    "version": 3
   },
   "file_extension": ".py",
   "mimetype": "text/x-python",
   "name": "python",
   "nbconvert_exporter": "python",
   "pygments_lexer": "ipython3",
   "version": "3.11.3"
  }
 },
 "nbformat": 4,
 "nbformat_minor": 2
}
